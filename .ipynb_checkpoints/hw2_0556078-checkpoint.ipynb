{
 "cells": [
  {
   "cell_type": "markdown",
   "metadata": {
    "collapsed": false
   },
   "source": [
    "# Data Mining Homework #2\n",
    "### Student: 楊凱期 (0556078)"
   ]
  },
  {
   "cell_type": "code",
   "execution_count": 1,
   "metadata": {
    "collapsed": false
   },
   "outputs": [
    {
     "name": "stderr",
     "output_type": "stream",
     "text": [
      "/usr/local/lib/python3.4/dist-packages/sklearn/cross_validation.py:44: DeprecationWarning: This module was deprecated in version 0.18 in favor of the model_selection module into which all the refactored classes and functions are moved. Also note that the interface of the new CV iterators are different from that of this module. This module will be removed in 0.20.\n",
      "  \"This module will be removed in 0.20.\", DeprecationWarning)\n"
     ]
    }
   ],
   "source": [
    "import pandas as pd\n",
    "import numpy as np\n",
    "import matplotlib.pyplot as plt\n",
    "\n",
    "from datetime import datetime\n",
    "\n",
    "from sklearn.linear_model import LogisticRegression\n",
    "from sklearn.neighbors import KNeighborsClassifier\n",
    "from sklearn.naive_bayes import GaussianNB\n",
    "from sklearn.ensemble import RandomForestClassifier\n",
    "from sklearn.svm import SVC\n",
    "from sklearn.cluster import KMeans\n",
    "\n",
    "from sklearn.cross_validation import train_test_split\n",
    "from sklearn.metrics import (accuracy_score, precision_score, recall_score,\n",
    "                             roc_curve, confusion_matrix)\n",
    "from scipy.spatial import distance\n",
    "import itertools\n",
    "\n",
    "%matplotlib inline"
   ]
  },
  {
   "cell_type": "code",
   "execution_count": 2,
   "metadata": {
    "collapsed": false
   },
   "outputs": [
    {
     "data": {
      "text/html": [
       "<div style=\"max-height:1000px;max-width:1500px;overflow:auto;\">\n",
       "<table border=\"1\" class=\"dataframe\">\n",
       "  <thead>\n",
       "    <tr style=\"text-align: right;\">\n",
       "      <th></th>\n",
       "      <th>ID</th>\n",
       "      <th>LIMIT_BAL</th>\n",
       "      <th>SEX</th>\n",
       "      <th>EDUCATION</th>\n",
       "      <th>MARRIAGE</th>\n",
       "      <th>AGE</th>\n",
       "      <th>PAY_0</th>\n",
       "      <th>PAY_2</th>\n",
       "      <th>PAY_3</th>\n",
       "      <th>PAY_4</th>\n",
       "      <th>...</th>\n",
       "      <th>BILL_AMT4</th>\n",
       "      <th>BILL_AMT5</th>\n",
       "      <th>BILL_AMT6</th>\n",
       "      <th>PAY_AMT1</th>\n",
       "      <th>PAY_AMT2</th>\n",
       "      <th>PAY_AMT3</th>\n",
       "      <th>PAY_AMT4</th>\n",
       "      <th>PAY_AMT5</th>\n",
       "      <th>PAY_AMT6</th>\n",
       "      <th>default payment next month</th>\n",
       "    </tr>\n",
       "  </thead>\n",
       "  <tbody>\n",
       "    <tr>\n",
       "      <th>0</th>\n",
       "      <td> 1</td>\n",
       "      <td>  20000</td>\n",
       "      <td> 2</td>\n",
       "      <td> 2</td>\n",
       "      <td> 1</td>\n",
       "      <td> 24</td>\n",
       "      <td> 2</td>\n",
       "      <td> 2</td>\n",
       "      <td>-1</td>\n",
       "      <td>-1</td>\n",
       "      <td>...</td>\n",
       "      <td>     0</td>\n",
       "      <td>     0</td>\n",
       "      <td>     0</td>\n",
       "      <td>    0</td>\n",
       "      <td>   689</td>\n",
       "      <td>     0</td>\n",
       "      <td>    0</td>\n",
       "      <td>    0</td>\n",
       "      <td>    0</td>\n",
       "      <td> 1</td>\n",
       "    </tr>\n",
       "    <tr>\n",
       "      <th>1</th>\n",
       "      <td> 2</td>\n",
       "      <td> 120000</td>\n",
       "      <td> 2</td>\n",
       "      <td> 2</td>\n",
       "      <td> 2</td>\n",
       "      <td> 26</td>\n",
       "      <td>-1</td>\n",
       "      <td> 2</td>\n",
       "      <td> 0</td>\n",
       "      <td> 0</td>\n",
       "      <td>...</td>\n",
       "      <td>  3272</td>\n",
       "      <td>  3455</td>\n",
       "      <td>  3261</td>\n",
       "      <td>    0</td>\n",
       "      <td>  1000</td>\n",
       "      <td>  1000</td>\n",
       "      <td> 1000</td>\n",
       "      <td>    0</td>\n",
       "      <td> 2000</td>\n",
       "      <td> 1</td>\n",
       "    </tr>\n",
       "    <tr>\n",
       "      <th>2</th>\n",
       "      <td> 3</td>\n",
       "      <td>  90000</td>\n",
       "      <td> 2</td>\n",
       "      <td> 2</td>\n",
       "      <td> 2</td>\n",
       "      <td> 34</td>\n",
       "      <td> 0</td>\n",
       "      <td> 0</td>\n",
       "      <td> 0</td>\n",
       "      <td> 0</td>\n",
       "      <td>...</td>\n",
       "      <td> 14331</td>\n",
       "      <td> 14948</td>\n",
       "      <td> 15549</td>\n",
       "      <td> 1518</td>\n",
       "      <td>  1500</td>\n",
       "      <td>  1000</td>\n",
       "      <td> 1000</td>\n",
       "      <td> 1000</td>\n",
       "      <td> 5000</td>\n",
       "      <td> 0</td>\n",
       "    </tr>\n",
       "    <tr>\n",
       "      <th>3</th>\n",
       "      <td> 4</td>\n",
       "      <td>  50000</td>\n",
       "      <td> 2</td>\n",
       "      <td> 2</td>\n",
       "      <td> 1</td>\n",
       "      <td> 37</td>\n",
       "      <td> 0</td>\n",
       "      <td> 0</td>\n",
       "      <td> 0</td>\n",
       "      <td> 0</td>\n",
       "      <td>...</td>\n",
       "      <td> 28314</td>\n",
       "      <td> 28959</td>\n",
       "      <td> 29547</td>\n",
       "      <td> 2000</td>\n",
       "      <td>  2019</td>\n",
       "      <td>  1200</td>\n",
       "      <td> 1100</td>\n",
       "      <td> 1069</td>\n",
       "      <td> 1000</td>\n",
       "      <td> 0</td>\n",
       "    </tr>\n",
       "    <tr>\n",
       "      <th>4</th>\n",
       "      <td> 5</td>\n",
       "      <td>  50000</td>\n",
       "      <td> 1</td>\n",
       "      <td> 2</td>\n",
       "      <td> 1</td>\n",
       "      <td> 57</td>\n",
       "      <td>-1</td>\n",
       "      <td> 0</td>\n",
       "      <td>-1</td>\n",
       "      <td> 0</td>\n",
       "      <td>...</td>\n",
       "      <td> 20940</td>\n",
       "      <td> 19146</td>\n",
       "      <td> 19131</td>\n",
       "      <td> 2000</td>\n",
       "      <td> 36681</td>\n",
       "      <td> 10000</td>\n",
       "      <td> 9000</td>\n",
       "      <td>  689</td>\n",
       "      <td>  679</td>\n",
       "      <td> 0</td>\n",
       "    </tr>\n",
       "  </tbody>\n",
       "</table>\n",
       "<p>5 rows × 25 columns</p>\n",
       "</div>"
      ],
      "text/plain": [
       "   ID  LIMIT_BAL  SEX  EDUCATION  MARRIAGE  AGE  PAY_0  PAY_2  PAY_3  PAY_4  \\\n",
       "0   1      20000    2          2         1   24      2      2     -1     -1   \n",
       "1   2     120000    2          2         2   26     -1      2      0      0   \n",
       "2   3      90000    2          2         2   34      0      0      0      0   \n",
       "3   4      50000    2          2         1   37      0      0      0      0   \n",
       "4   5      50000    1          2         1   57     -1      0     -1      0   \n",
       "\n",
       "   ...    BILL_AMT4  BILL_AMT5  BILL_AMT6  PAY_AMT1  PAY_AMT2  PAY_AMT3  \\\n",
       "0  ...            0          0          0         0       689         0   \n",
       "1  ...         3272       3455       3261         0      1000      1000   \n",
       "2  ...        14331      14948      15549      1518      1500      1000   \n",
       "3  ...        28314      28959      29547      2000      2019      1200   \n",
       "4  ...        20940      19146      19131      2000     36681     10000   \n",
       "\n",
       "   PAY_AMT4  PAY_AMT5  PAY_AMT6  default payment next month  \n",
       "0         0         0         0                           1  \n",
       "1      1000         0      2000                           1  \n",
       "2      1000      1000      5000                           0  \n",
       "3      1100      1069      1000                           0  \n",
       "4      9000       689       679                           0  \n",
       "\n",
       "[5 rows x 25 columns]"
      ]
     },
     "execution_count": 2,
     "metadata": {},
     "output_type": "execute_result"
    }
   ],
   "source": [
    "dataset = pd.read_excel('./dataset.xls', header=1)\n",
    "dataset.head(5)"
   ]
  },
  {
   "cell_type": "markdown",
   "metadata": {},
   "source": [
    "### Problem 1\n",
    "Split the data randomly to training data and test data ( 70% / 30% )"
   ]
  },
  {
   "cell_type": "code",
   "execution_count": 3,
   "metadata": {
    "collapsed": false
   },
   "outputs": [
    {
     "name": "stdout",
     "output_type": "stream",
     "text": [
      "The shape of each data set\n",
      "train x : (21000, 23)\n",
      "train y : (21000,)\n",
      "test x : (9000, 23)\n",
      "test y : (9000,)\n"
     ]
    }
   ],
   "source": [
    "tt_ratio = 0.7\n",
    "data_train, data_test = train_test_split(dataset, train_size = tt_ratio, random_state = int(datetime.now().timestamp()))\n",
    "\n",
    "#data_train = data_train.sort(\"ID\")\n",
    "#data_test = data_test.sort(\"ID\")\n",
    "x_train = data_train.drop(['ID', 'default payment next month'], axis=1)\n",
    "y_train = data_train['default payment next month']\n",
    "x_test = data_test.drop(['ID', 'default payment next month'], axis=1)\n",
    "y_test = data_test['default payment next month']\n",
    "\n",
    "ds_list = [(x_train, \"train x\"), (y_train, \"train y\"), (x_test, \"test x\"), (y_test, \"test y\")]\n",
    "print(\"The shape of each data set\")\n",
    "for ds, ds_name in ds_list:\n",
    "    print(\"{0} : {1}\".format(ds_name, ds.shape))"
   ]
  },
  {
   "cell_type": "markdown",
   "metadata": {},
   "source": [
    "### Problem 2\n",
    "What is the accuracy of (1) Logistic Regression (2) k-Nearest Neighbors (3) Naive Bayes (4) Random Forest (5) SVM model in test data"
   ]
  },
  {
   "cell_type": "code",
   "execution_count": null,
   "metadata": {
    "collapsed": false
   },
   "outputs": [
    {
     "name": "stdout",
     "output_type": "stream",
     "text": [
      "Compare Accuracy\n",
      "Logistic Regression : 0.776888888889\n",
      "k-Nearest Neighbors : 0.756555555556\n",
      "Naive Bayes : 0.377444444444\n",
      "Random Forest : 0.804222222222\n"
     ]
    }
   ],
   "source": [
    "clfs = [\n",
    "    (LogisticRegression(), \"Logistic Regression\"),\n",
    "    (KNeighborsClassifier(), \"k-Nearest Neighbors\"),\n",
    "    (GaussianNB(), \"Naive Bayes\"),\n",
    "    (RandomForestClassifier(), \"Random Forest\"),\n",
    "    (SVC(), \"SVM\")\n",
    "]\n",
    "\n",
    "print(\"Compare Accuracy\")\n",
    "for clf, method in clfs:\n",
    "    clf.fit(x_train, y_train)\n",
    "    result = clf.predict(x_test)\n",
    "    print(method, \":\", accuracy_score(result, y_test))"
   ]
  },
  {
   "cell_type": "markdown",
   "metadata": {},
   "source": [
    "### Problem 3\n",
    "Draw the ROC curve in Logistic Regression"
   ]
  },
  {
   "cell_type": "code",
   "execution_count": 5,
   "metadata": {
    "collapsed": false
   },
   "outputs": [
    {
     "data": {
      "image/png": "[encoded data removed]",
      "text/plain": [
       "<matplotlib.figure.Figure at 0x7f19747d2630>"
      ]
     },
     "metadata": {},
     "output_type": "display_data"
    }
   ],
   "source": [
    "clf = LogisticRegression()\n",
    "clf.fit(x_train, y_train)\n",
    "y_score = clf.decision_function(x_test)\n",
    "fpr, tpr, thresholds = roc_curve(y_test, y_score)\n",
    "\n",
    "plt.figure(1)\n",
    "plt.xlabel('FP Rate')\n",
    "plt.ylabel('TP Rate')\n",
    "\n",
    "plt.plot([0, 1], [0, 1], color='black', linestyle='--')\n",
    "plt.plot(fpr, tpr, label=\"ROC curve\", color='r')\n",
    "plt.legend(loc='best')\n",
    "plt.show()"
   ]
  },
  {
   "cell_type": "markdown",
   "metadata": {},
   "source": [
    "### Problem 4\n",
    "Calculate the precision and recall in k-Nearest Neighbors"
   ]
  },
  {
   "cell_type": "code",
   "execution_count": 6,
   "metadata": {
    "collapsed": false,
    "scrolled": true
   },
   "outputs": [
    {
     "name": "stdout",
     "output_type": "stream",
     "text": [
      "precision: 0.36716\n",
      "recall: 0.19050\n"
     ]
    }
   ],
   "source": [
    "clf = KNeighborsClassifier()\n",
    "clf.fit(x_train, y_train)\n",
    "y_pred = clf.predict(x_test)\n",
    "\n",
    "print('precision: {:.5f}'.format(precision_score(y_test, y_pred)))\n",
    "print('recall: {:.5f}'.format(recall_score(y_test, y_pred)))"
   ]
  },
  {
   "cell_type": "markdown",
   "metadata": {},
   "source": [
    "### Problem 5\n",
    "Draw the Confusion Matrix of Naive Bayes"
   ]
  },
  {
   "cell_type": "code",
   "execution_count": 7,
   "metadata": {
    "collapsed": false
   },
   "outputs": [
    {
     "name": "stdout",
     "output_type": "stream",
     "text": [
      "Confusion matrix, without normalization\n",
      "[[1850 5213]\n",
      " [ 272 1665]]\n"
     ]
    },
    {
     "data": {
      "image/png": "[encoded data removed]",
      "text/plain": [
       "<matplotlib.figure.Figure at 0x7f1974fc9860>"
      ]
     },
     "metadata": {},
     "output_type": "display_data"
    }
   ],
   "source": [
    "clf = GaussianNB()\n",
    "clf.fit(x_train, y_train)\n",
    "y_pred = clf.predict(x_test)\n",
    "\n",
    "cnf_matrix = confusion_matrix(y_test, y_pred)\n",
    "\n",
    "def plot_confusion_matrix(cm, classes,\n",
    "                          normalize=False,\n",
    "                          title='Confusion matrix',\n",
    "                          cmap=plt.cm.Blues):\n",
    "    \"\"\"\n",
    "    This function prints and plots the confusion matrix.\n",
    "    Normalization can be applied by setting `normalize=True`.\n",
    "    \"\"\"\n",
    "    plt.imshow(cm, interpolation='nearest', cmap=cmap)\n",
    "    plt.title(title)\n",
    "    plt.colorbar()\n",
    "    tick_marks = np.arange(len(classes))\n",
    "    plt.xticks(tick_marks, classes, rotation=45)\n",
    "    plt.yticks(tick_marks, classes)\n",
    "\n",
    "    if normalize:\n",
    "        cm = cm.astype('float') / cm.sum(axis=1)[:, np.newaxis]\n",
    "        print(\"Normalized confusion matrix\")\n",
    "    else:\n",
    "        print('Confusion matrix, without normalization')\n",
    "\n",
    "    print(cm)\n",
    "\n",
    "    thresh = cm.max() / 2.\n",
    "    for i, j in itertools.product(range(cm.shape[0]), range(cm.shape[1])):\n",
    "        plt.text(j, i, cm[i, j],\n",
    "                 horizontalalignment=\"center\",\n",
    "                 color=\"white\" if cm[i, j] > thresh else \"black\")\n",
    "\n",
    "    plt.tight_layout()\n",
    "    plt.ylabel('True label')\n",
    "    plt.xlabel('Predicted label')\n",
    "    \n",
    "np.set_printoptions(precision=2)\n",
    "plt.figure()\n",
    "plot_confusion_matrix(cnf_matrix, classes=[0, 1])\n",
    "plt.show()"
   ]
  },
  {
   "cell_type": "markdown",
   "metadata": {},
   "source": [
    "### Problem 6"
   ]
  },
  {
   "cell_type": "code",
   "execution_count": null,
   "metadata": {
    "collapsed": false
   },
   "outputs": [],
   "source": [
    "kernels = ['rbf','linear','poly','sigmoid']\n",
    "for ker in kernels:\n",
    "    clf = SVC(kernel = ker)\n",
    "    clf.fit(x_train, y_train)\n",
    "    result = clf.predict(x_test)\n",
    "    print(ker, \":\", accuracy_score(result, y_test))"
   ]
  },
  {
   "cell_type": "markdown",
   "metadata": {},
   "source": [
    "## Problem 7\n",
    "According to Gender, Education, and Marital status, how many kinds of customer should be divided into?"
   ]
  },
  {
   "cell_type": "code",
   "execution_count": 8,
   "metadata": {
    "collapsed": false
   },
   "outputs": [],
   "source": [
    "points = dataset[['SEX', 'EDUCATION', 'MARRIAGE']]\n",
    "num_points = points.shape[0]\n",
    "\n",
    "clf = KMeans(n_clusters=3)\n",
    "clf.fit(points)\n",
    "\n",
    "dd = [0]*10\n",
    "clf.cluster_centers_\n",
    "for i in range(1, 11):\n",
    "    clf.labels_\n",
    "    clf = KMeans(n_clusters=i)\n",
    "    clf.fit(points)\n",
    "\n",
    "    for j in range(0, num_points):\n",
    "        dd[i-1] += ((points.values[j] - clf.cluster_centers_[clf.labels_[j]])**2).sum()\n",
    "        #dd[i-1] += distance.euclidean(points.values[j], clf.cluster_centers_[clf.labels_[j]])\n",
    "    dd[i-1] /= num_points - i"
   ]
  },
  {
   "cell_type": "code",
   "execution_count": 9,
   "metadata": {
    "collapsed": false
   },
   "outputs": [
    {
     "data": {
      "text/plain": [
       "<matplotlib.text.Text at 0x7f19768c7e48>"
      ]
     },
     "execution_count": 9,
     "metadata": {},
     "output_type": "execute_result"
    },
    {
     "data": {
      "image/png": "[encoded data removed]",
      "text/plain": [
       "<matplotlib.figure.Figure at 0x7f19768e0550>"
      ]
     },
     "metadata": {},
     "output_type": "display_data"
    }
   ],
   "source": [
    "plt.grid(True)\n",
    "plt.plot(dd, marker='o')\n",
    "plt.xticks(range(10), range(1, 11))\n",
    "plt.xlabel('Number of Clusters')\n",
    "plt.ylabel('MSW(Mean Square Within)')"
   ]
  },
  {
   "cell_type": "markdown",
   "metadata": {},
   "source": [
    "我使用 Mean Square Within 來分析 k 對分群的效果，公式簡單表示為\n",
    "$$MSE =\\frac{ \\sum\\limits_{i} \\sum\\limits_{j \\in C_{i}}(X_{ij} - \\bar{X}_{i})^2}{n-k}$$\n",
    "\n",
    "其中我認為k的取值為 3 or4，  \n",
    "因為k取值愈大，會發現MSE的曲線幅度降低，所以分群效果並沒有顯著提升。"
   ]
  },
  {
   "cell_type": "markdown",
   "metadata": {},
   "source": [
    "## Problem 8\n",
    "Feel free and try more ^_^  \n",
    "\n",
    "這部份我選擇的是 Neural network models，根據不同參數設定下做測試。"
   ]
  },
  {
   "cell_type": "code",
   "execution_count": 15,
   "metadata": {
    "collapsed": false
   },
   "outputs": [],
   "source": [
    "from sklearn.neural_network import MLPClassifier"
   ]
  },
  {
   "cell_type": "code",
   "execution_count": 25,
   "metadata": {
    "collapsed": false
   },
   "outputs": [
    {
     "name": "stdout",
     "output_type": "stream",
     "text": [
      "solver:lbfgs\n",
      "hidden layer (5, 5), accuracy : 0.55344\n",
      "hidden layer (5, 10), accuracy : 0.76978\n",
      "hidden layer (15, 5), accuracy : 0.23644\n",
      "hidden layer (15, 10), accuracy : 0.78200\n",
      "hidden layer (25, 5), accuracy : 0.78200\n",
      "hidden layer (25, 10), accuracy : 0.76611\n",
      "solver:sgd\n",
      "hidden layer (5, 5), accuracy : 0.78200\n",
      "hidden layer (5, 10), accuracy : 0.78200\n",
      "hidden layer (15, 5), accuracy : 0.78211\n",
      "hidden layer (15, 10), accuracy : 0.78211\n",
      "hidden layer (25, 5), accuracy : 0.78211\n",
      "hidden layer (25, 10), accuracy : 0.78211\n",
      "solver:adam\n",
      "hidden layer (5, 5), accuracy : 0.73844\n",
      "hidden layer (5, 10), accuracy : 0.78222\n",
      "hidden layer (15, 5), accuracy : 0.78178\n",
      "hidden layer (15, 10), accuracy : 0.68122\n",
      "hidden layer (25, 5), accuracy : 0.78189\n",
      "hidden layer (25, 10), accuracy : 0.76522\n"
     ]
    }
   ],
   "source": [
    "solvers = ['lbfgs', 'sgd', 'adam']\n",
    "elements = [5, 15, 25]\n",
    "layers = [5, 10]\n",
    "\n",
    "acc_table = pd.DataFrame(columns=[\"Method\", \"Accuracy\"])\n",
    "\n",
    "for slv in solvers:\n",
    "    print(\"solver:{}\".format(slv))\n",
    "    for ele in elements:\n",
    "        for lyr in layers:\n",
    "            clf = MLPClassifier(solver=slv, alpha=1e-5,hidden_layer_sizes=(ele, lyr), random_state=1)\n",
    "            clf.fit(x_train, y_train) \n",
    "            result = clf.predict(x_test)\n",
    "            print(\"hidden layer ({0}, {1}), accuracy : {2:.5f}\".format(ele, lyr, accuracy_score(result, y_test)))\n",
    "    \n"
   ]
  },
  {
   "cell_type": "markdown",
   "metadata": {},
   "source": [
    "以上是對於不同的 solver 與 hidden layer size 對正確率的影響"
   ]
  },
  {
   "cell_type": "code",
   "execution_count": 42,
   "metadata": {
    "collapsed": false
   },
   "outputs": [],
   "source": [
    "acc = [0]*11\n",
    "for lyr in range(2,11):\n",
    "    clf = MLPClassifier(solver=slv, alpha=1e-5,hidden_layer_sizes=(5, lyr), random_state=1)\n",
    "    clf.fit(x_train, y_train) \n",
    "    result = clf.predict(x_test)\n",
    "    acc[lyr] = accuracy_score(result, y_test)"
   ]
  },
  {
   "cell_type": "code",
   "execution_count": 47,
   "metadata": {
    "collapsed": false
   },
   "outputs": [
    {
     "data": {
      "text/plain": [
       "<matplotlib.text.Text at 0x7f19766228d0>"
      ]
     },
     "execution_count": 47,
     "metadata": {},
     "output_type": "execute_result"
    },
    {
     "data": {
      "image/png": "[encoded data removed]",
      "text/plain": [
       "<matplotlib.figure.Figure at 0x7f19765f6c88>"
      ]
     },
     "metadata": {},
     "output_type": "display_data"
    }
   ],
   "source": [
    "plt.plot(acc[2:11])\n",
    "plt.xticks(range(9), range(2, 11))\n",
    "plt.xlabel('Number of Layers')\n",
    "plt.ylabel('Accuracy')"
   ]
  },
  {
   "cell_type": "markdown",
   "metadata": {},
   "source": [
    "以上是固定 element 為 5 的情況下，Accuracy 的變動情形"
   ]
  },
  {
   "cell_type": "code",
   "execution_count": 59,
   "metadata": {
    "collapsed": true
   },
   "outputs": [],
   "source": [
    "acc = [0]*11\n",
    "for lyr in range(2,11):\n",
    "    clf = MLPClassifier(solver=slv, alpha=1e-5,hidden_layer_sizes=(15, lyr), random_state=1)\n",
    "    clf.fit(x_train, y_train) \n",
    "    result = clf.predict(x_test)\n",
    "    acc[lyr] = accuracy_score(result, y_test)"
   ]
  },
  {
   "cell_type": "code",
   "execution_count": 60,
   "metadata": {
    "collapsed": false,
    "scrolled": true
   },
   "outputs": [
    {
     "data": {
      "text/plain": [
       "<matplotlib.text.Text at 0x7f19764001d0>"
      ]
     },
     "execution_count": 60,
     "metadata": {},
     "output_type": "execute_result"
    },
    {
     "data": {
      "image/png": "[encoded data removed]",
      "text/plain": [
       "<matplotlib.figure.Figure at 0x7f197640fd68>"
      ]
     },
     "metadata": {},
     "output_type": "display_data"
    }
   ],
   "source": [
    "plt.plot(acc[2:11])\n",
    "plt.xticks(range(9), range(2, 11))\n",
    "plt.xlabel('Number of Layers')\n",
    "plt.ylabel('Accuracy')"
   ]
  },
  {
   "cell_type": "markdown",
   "metadata": {},
   "source": [
    "以上是固定 element 為 15 的情況下，Accuracy 的變動情形"
   ]
  },
  {
   "cell_type": "code",
   "execution_count": 61,
   "metadata": {
    "collapsed": true
   },
   "outputs": [],
   "source": [
    "acc = [0]*20\n",
    "for t in range(0,20):\n",
    "    clf = MLPClassifier(solver=slv, alpha=1e-5,hidden_layer_sizes=(15, 5), random_state=int(datetime.now().timestamp()))\n",
    "    clf.fit(x_train, y_train) \n",
    "    result = clf.predict(x_test)\n",
    "    acc[t] = accuracy_score(result, y_test)"
   ]
  },
  {
   "cell_type": "code",
   "execution_count": 62,
   "metadata": {
    "collapsed": false
   },
   "outputs": [
    {
     "data": {
      "text/plain": [
       "<matplotlib.text.Text at 0x7f19762d97f0>"
      ]
     },
     "execution_count": 62,
     "metadata": {},
     "output_type": "execute_result"
    },
    {
     "data": {
      "image/png": "[encoded data removed]",
      "text/plain": [
       "<matplotlib.figure.Figure at 0x7f19763917f0>"
      ]
     },
     "metadata": {},
     "output_type": "display_data"
    }
   ],
   "source": [
    "plt.plot(acc)\n",
    "plt.xlabel('Times')\n",
    "plt.ylabel('Accuracy')"
   ]
  },
  {
   "cell_type": "markdown",
   "metadata": {},
   "source": [
    "以上是固定 hidden_layer_sizes = (15,5) 的情形下，不同 random_state 對 Accuracy 的影響。"
   ]
  },
  {
   "cell_type": "code",
   "execution_count": 63,
   "metadata": {
    "collapsed": true
   },
   "outputs": [],
   "source": [
    "acc = [0]*20\n",
    "for t in range(0,20):\n",
    "    clf = MLPClassifier(solver=slv, alpha=1e-5,hidden_layer_sizes=(100, 50), random_state=int(datetime.now().timestamp()))\n",
    "    clf.fit(x_train, y_train) \n",
    "    result = clf.predict(x_test)\n",
    "    acc[t] = accuracy_score(result, y_test)"
   ]
  },
  {
   "cell_type": "code",
   "execution_count": 64,
   "metadata": {
    "collapsed": false
   },
   "outputs": [
    {
     "data": {
      "text/plain": [
       "<matplotlib.text.Text at 0x7f19762ad9e8>"
      ]
     },
     "execution_count": 64,
     "metadata": {},
     "output_type": "execute_result"
    },
    {
     "data": {
      "image/png": "[encoded data removed]",
      "text/plain": [
       "<matplotlib.figure.Figure at 0x7f1976290390>"
      ]
     },
     "metadata": {},
     "output_type": "display_data"
    }
   ],
   "source": [
    "plt.plot(acc)\n",
    "plt.xlabel('Times')\n",
    "plt.ylabel('Accuracy')"
   ]
  },
  {
   "cell_type": "markdown",
   "metadata": {},
   "source": [
    "以上是固定 hidden_layer_sizes = (100,50) 的情形下，不同 random_state 對 Accuracy 的影響。"
   ]
  },
  {
   "cell_type": "markdown",
   "metadata": {},
   "source": [
    "原本認為在 hidden_layer_sizes 夠大的情形下，建模的準確率應該會趨於穩定，  \n",
    "但是結果確反而更不穩定，這個部份我目前還不知道緣由，  \n",
    "這也許是我未來能深入了解的地方。"
   ]
  },
  {
   "cell_type": "markdown",
   "metadata": {},
   "source": [
    "###### 結論：\n",
    "針對 hidden_layer_sizes 參數的設定目前沒有得到較好的準則，  \n",
    "以前面的實驗來說，愈多的 elements 並未代表著愈高的 Accuracy，而愈多的 layers 也未必代表愈高的 Accuracy。"
   ]
  }
 ],
 "metadata": {
  "kernelspec": {
   "display_name": "Python 3",
   "language": "python",
   "name": "python3"
  },
  "language_info": {
   "codemirror_mode": {
    "name": "ipython",
    "version": 3
   },
   "file_extension": ".py",
   "mimetype": "text/x-python",
   "name": "python",
   "nbconvert_exporter": "python",
   "pygments_lexer": "ipython3",
   "version": "3.4.2"
  }
 },
 "nbformat": 4,
 "nbformat_minor": 1
}
